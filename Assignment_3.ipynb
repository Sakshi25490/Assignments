{
 "cells": [
  {
   "cell_type": "markdown",
   "metadata": {},
   "source": [
    "Assignment_3"
   ]
  },
  {
   "cell_type": "markdown",
   "metadata": {},
   "source": [
    "Q1. Why are functions advantageous to have in your programs?\n",
    "\n",
    "Ans: Functions are very helpful in programs:\n",
    "1. Program length will be shorter, by using functions.\n",
    "2. And we can availd the Duplicate code or avoid to write the same logic code for multiple times.\n",
    "3. Also we can read and understand the code easily."
   ]
  },
  {
   "cell_type": "markdown",
   "metadata": {},
   "source": [
    "Q2. When does the code in a function run: when its specified or when its called?\n",
    "    \n",
    "Ans: code inside of the function will run successfuly when it is called.\n"
   ]
  },
  {
   "cell_type": "markdown",
   "metadata": {},
   "source": [
    "Q3. What statement creates a function?\n",
    "\n",
    "Ans: Using Def (Defines) statement we can create the function "
   ]
  },
  {
   "cell_type": "markdown",
   "metadata": {},
   "source": [
    "Q4. What is the difference between a function and a function call?\n",
    "\n",
    "Ans: Function : By using def statement we will create the function and it contains set of code to perform the perticular action. \n",
    "Fucntion Call: We will be calling the function wherever we need and it evaluates the return value (calling function is nothing but running the small set of code).\n"
   ]
  },
  {
   "cell_type": "markdown",
   "metadata": {},
   "source": [
    "Q5. How many global scopes are there in a Python program? How many local scopes?\n",
    "\n",
    "Ans: \n",
    "* There is one Global Scope and one local Scope. \n",
    "* The scope of global variables are the entire program.\n",
    "* Also the scope of local variable is limited to the function where it is defined."
   ]
  },
  {
   "cell_type": "markdown",
   "metadata": {},
   "source": [
    "Q6. What happens to variables in a local scope when the function call returns?\n",
    "\n",
    "Ans: When the function call returns, the local variables are destroyed, because after the function returns local variables are disappear.\n"
   ]
  },
  {
   "cell_type": "markdown",
   "metadata": {},
   "source": [
    "Q7. What is the concept of a return value? Is it possible to have a return value in an expression?\n",
    "\n",
    "Ans: return value is the value, when we call function, it evaulates. it can be any value, retun value can be used as part of expression.\n"
   ]
  },
  {
   "cell_type": "markdown",
   "metadata": {},
   "source": [
    "Q8. If a function does not have a return statement, what is the return value of a call to that function?\n",
    "\n",
    "Ans: If a function does not have a return statement, then it returns or the retun value is None ."
   ]
  },
  {
   "cell_type": "code",
   "execution_count": 3,
   "metadata": {},
   "outputs": [
    {
     "name": "stdout",
     "output_type": "stream",
     "text": [
      "Global variable:\n",
      "My name is: Sakshi\n"
     ]
    }
   ],
   "source": [
    "#Q9. How do you make a function variable refer to the global variable?\n",
    "\n",
    "#Ans: need to creat veriable by using Global keyword.\n",
    "#Ex:\n",
    "\n",
    "print(\"Global variable:\")\n",
    "\n",
    "def GlobVariable():\n",
    "    global n\n",
    "    n = \"Sakshi\"\n",
    "GlobVariable()\n",
    "\n",
    "print(\"My name is: \" + n)"
   ]
  },
  {
   "cell_type": "markdown",
   "metadata": {},
   "source": [
    "Q10. What is the data type of None?\n",
    "\n",
    "Ans: The data type of None is NoneType."
   ]
  },
  {
   "cell_type": "markdown",
   "metadata": {},
   "source": [
    "Q11. What does the sentence import areallyourpetsnamederic do?\n",
    "\n",
    "Ans: import sentence will import a module or package of \"areallyourpetsnamederic\".\n"
   ]
  },
  {
   "cell_type": "markdown",
   "metadata": {},
   "source": [
    "Q12. If you had a bacon() feature in a spam module, what would you call it after importing spam?\n",
    "\n",
    "Ans: like spam.bacon()\n",
    "    "
   ]
  },
  {
   "cell_type": "markdown",
   "metadata": {},
   "source": [
    "Q13. What can you do to save a programme from crashing if it encounters an error?\n",
    "\n",
    "Ans: If you know that line of code will throw error, then you can place that code into try clause."
   ]
  },
  {
   "cell_type": "markdown",
   "metadata": {},
   "source": [
    "Q 14. What is the purpose of the try clause? What is the purpose of the except clause?\n",
    "\n",
    "Ans: \n",
    "* try : The try clause lets you to test a block of code for errors.\n",
    "* except : The except clause use to handle to the errors. "
   ]
  },
  {
   "cell_type": "code",
   "execution_count": null,
   "metadata": {},
   "outputs": [],
   "source": []
  }
 ],
 "metadata": {
  "kernelspec": {
   "display_name": "Python 3",
   "language": "python",
   "name": "python3"
  },
  "language_info": {
   "codemirror_mode": {
    "name": "ipython",
    "version": 3
   },
   "file_extension": ".py",
   "mimetype": "text/x-python",
   "name": "python",
   "nbconvert_exporter": "python",
   "pygments_lexer": "ipython3",
   "version": "3.7.0"
  }
 },
 "nbformat": 4,
 "nbformat_minor": 2
}
