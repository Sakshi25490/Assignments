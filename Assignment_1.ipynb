{
 "cells": [
  {
   "cell_type": "markdown",
   "metadata": {},
   "source": [
    "# 1. In the below elements which of them are values or an expression? \n",
    "eg:- values can be integer or string and expressions will be mathematical operators.\n",
    "*\n",
    "&#39;hello&#39;\n",
    "-87.8\n",
    "-\n",
    "/\n",
    "+\n",
    "6\n",
    "\n",
    "\n",
    "ANS: Values: -87.8, 6,'hello'\n",
    "     Operators:*, -,/,+\n",
    "       "
   ]
  },
  {
   "cell_type": "markdown",
   "metadata": {},
   "source": [
    "# 2. What is the difference between string and variable?\n",
    "\n",
    "Ans: String - It is sequence of characters and it is enclosed in character quotes. \n",
    "     Eg: a='Hello Morning'\n",
    "     \n",
    "     Variable - It used to store the data in memory, \n",
    "     eg : RN=2 , S='Moon'  "
   ]
  },
  {
   "cell_type": "markdown",
   "metadata": {},
   "source": [
    "# 3. Describe three different data types.\n",
    "\n",
    "Ans: Integer : These are the whole nmbers without any fractions, and also it could be Possitive or Nagetive. Eg: a=10 , b=-4\n",
    "Float : These are the numbers with franctions or decimal point numbers. Eg: f=1.04\n",
    "String: It is sequence of character and it is enclosed in character quotes. Eg: s = 'Hello'"
   ]
  },
  {
   "cell_type": "markdown",
   "metadata": {},
   "source": [
    "# 4. What is an expression made up of? What do all expressions do?\n",
    "\n",
    "Ans: Expression is the combination of operators and operands.\n",
    "Types of Expressions:\n",
    "1. Arithmetic Expressions : It is a combination of operators, operands and also parenthesis is known as Arithmetic Expression.\n",
    "Eg: x = 3\n",
    "    y = 4\n",
    "add = x + y \n",
    "mult= x * y\n",
    "print(add)\n",
    "print(mult)\n",
    "\n",
    "2. Constant Expressions: these are the expression that have constant values only\n",
    "eg: c = c = 8 + 10\n",
    "print(c)\n",
    "\n",
    "3. Integral Expressions: These are the expressions that produce only integer results after all computations and type conversions\n",
    "EG: X=13\n",
    "    Y=12.3\n",
    "    C = X + int(Y)\n",
    "    print(C)\n",
    "    \n",
    "4. Floating Expressions: These are the expressions which produce floating point numbers as result after all computations and type conversions.\n",
    "    Eg:\n",
    "  X=13\n",
    "  Y=2\n",
    "  C = X / Y\n",
    "  print(C)\n",
    "  \n",
    "5. Relational Expressions: In these types of expressions, arithmetic expressions are written on both sides of relational operator (> , < , >= , <=). Those arithmetic expressions are evaluated first, and then compared as per relational operator and produce a boolean output in the end.\n",
    "EG: \n",
    "x = 2\n",
    "y = 4\n",
    "a = 6\n",
    "b = 8\n",
    "\n",
    "Sum = (x + y) > = (a + b)\n",
    "print(Sum)\n",
    "\n",
    "6. Logical Expressions: These are kinds of expressions that result in either True or False. It basically specifies one or more conditions. For example, (10 == 9) is a condition if 10 is equal to 9. As we know it is not correct, so it will return False.\n",
    "\n",
    "Eg: and, or, not\n",
    "\n",
    "a = (2==2)\n",
    "b = (5>3)\n",
    "\n",
    "c = a and b\n",
    "print(c)\n",
    "\n",
    "d = a or b\n",
    "print(d)\n",
    "\n",
    "e = not b\n",
    "print(e)\n",
    "\n",
    "7. Bitwise Expressions: These are the kind of expressions in which computations are performed at bit level.\n",
    "\n",
    "Eg: \n",
    "x = 10\n",
    "a = x >> 2\n",
    "b = x << 1\n",
    "print(a)\n",
    "print(b)\n",
    "\n",
    "\n",
    "8. Combinational Expressions: We can also use different types of expressions in a single expression, that is known as combinational expressions.\n",
    "\n",
    "m = 10\n",
    "n = 6\n",
    "\n",
    "a = m + (n<<2)\n",
    "print(a)\n"
   ]
  },
  {
   "cell_type": "markdown",
   "metadata": {},
   "source": [
    "# 5. This assignment statements, like spam = 10. What is the difference between an expression and a statement?\n",
    "Ans: Statements are the whole structure, while expressions are the building blocks.\n",
    "Ex : spam = 10 - this is called statement, Expressions can be assigned or used as operands, while statements can only be declared."
   ]
  },
  {
   "cell_type": "markdown",
   "metadata": {},
   "source": [
    "# 6. After running the following code, what does the variable bacon contain?\n",
    "bacon = 22\n",
    "bacon + 1\n",
    "\n",
    "print(bacon)\n",
    "\n",
    "#ANS: 23"
   ]
  },
  {
   "cell_type": "markdown",
   "metadata": {},
   "source": [
    "# 7. What should the values of the following two terms be?\n",
    "a='spam'+'sapmspam'\n",
    "b='spam'*3\n",
    "print(a)\n",
    "print(b)\n",
    "\n",
    "#Ans: a = spamsapmspam\n",
    "#Ans: b = spamsapmspam"
   ]
  },
  {
   "cell_type": "markdown",
   "metadata": {},
   "source": [
    "# 8. Why is eggs a valid variable name while 100 is invalid? \n",
    " Ans: eggs a valid variable name while 100 is invalid, becz variable name shouldn't start with numbers."
   ]
  },
  {
   "cell_type": "markdown",
   "metadata": {},
   "source": [
    "# 9. What three functions can be used to get the integer, floating-point number, or string version of a value?\n",
    "#ANS: Three functins are: int(), float(), str()\n",
    "#Ex:\n",
    "a = int(100)\n",
    "b = float(10.5)\n",
    "c = str('Sakshi')\n",
    "print(a)\n",
    "print(b)\n",
    "print(c)"
   ]
  },
  {
   "cell_type": "markdown",
   "metadata": {},
   "source": [
    "# 10. Why does this expression cause an error? How can you fix it?\n",
    "# 'I have eaten' + 99 + 'burritos'\n",
    "\n",
    "#Ans:\n",
    "'I have eaten' + '99' + 'burritos'  #converting int to string for 99"
   ]
  },
  {
   "cell_type": "code",
   "execution_count": null,
   "metadata": {},
   "outputs": [],
   "source": []
  }
 ],
 "metadata": {
  "kernelspec": {
   "display_name": "Python 3",
   "language": "python",
   "name": "python3"
  },
  "language_info": {
   "codemirror_mode": {
    "name": "ipython",
    "version": 3
   },
   "file_extension": ".py",
   "mimetype": "text/x-python",
   "name": "python",
   "nbconvert_exporter": "python",
   "pygments_lexer": "ipython3",
   "version": "3.7.0"
  }
 },
 "nbformat": 4,
 "nbformat_minor": 2
}
