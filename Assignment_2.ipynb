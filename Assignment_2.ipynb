{
 "cells": [
  {
   "cell_type": "code",
   "execution_count": null,
   "metadata": {},
   "outputs": [],
   "source": [
    "1.What are the two values of the Boolean Data Type? How do you write them?\n",
    "\n",
    "ANS: There are two Boolean data types: True , False\n",
    "\n",
    "x = 1 == 2\n",
    "print(x)\n",
    "y = 2 == 2\n",
    "print(y)"
   ]
  },
  {
   "cell_type": "code",
   "execution_count": null,
   "metadata": {},
   "outputs": [],
   "source": [
    "2. What are the three different types of Boolean operators?\n",
    "ANS: and, or, not"
   ]
  },
  {
   "cell_type": "code",
   "execution_count": null,
   "metadata": {},
   "outputs": [],
   "source": [
    "3. Make a List of each Boolean operators truth tables (i.e. every possible combination of Boolean\n",
    "values For the operator And what it evaluate ).\n",
    "\n",
    "Ans:- Note: True is 1, False is 0\n",
    "== Truth Table   \n",
    "True == True =  True\n",
    "True == False = False\n",
    "False == True = False\n",
    "False == False = True\n",
    "\n",
    "AND Truth Table\n",
    "True and True = True \n",
    "True and False = False\n",
    "False and True = False\n",
    "False and False = False\n",
    "\n",
    "OR Truth Table\n",
    "True or True = True\n",
    "True or False = True\n",
    "False or True = True\n",
    "False or False = False\n",
    "\n",
    "NOT Truth Table\n",
    "not True = False\n",
    "not False = True"
   ]
  },
  {
   "cell_type": "code",
   "execution_count": 6,
   "metadata": {},
   "outputs": [
    {
     "name": "stdout",
     "output_type": "stream",
     "text": [
      "False\n",
      "False\n",
      "True\n",
      "False\n",
      "False\n",
      "True\n"
     ]
    }
   ],
   "source": [
    "#4. What are the values of the following expressions?\n",
    "\n",
    "a = (5>4) and (3==5)\n",
    "print(a)\n",
    "\n",
    "b = not (5>4)\n",
    "print(b)\n",
    "\n",
    "c = (5>4) or (3==5)\n",
    "print(c)\n",
    "\n",
    "d = not((5>4) or(3==5))\n",
    "print(d)\n",
    "\n",
    "e = (True and True) and (True == False)\n",
    "print(e)\n",
    "\n",
    "d = (not False) or (not True)\n",
    "print(d)"
   ]
  },
  {
   "cell_type": "code",
   "execution_count": null,
   "metadata": {},
   "outputs": [],
   "source": [
    "5. What are the six comparison operators?\n",
    "Ans: ==, !=, <, >, <=, and >="
   ]
  },
  {
   "cell_type": "code",
   "execution_count": 4,
   "metadata": {},
   "outputs": [
    {
     "name": "stdout",
     "output_type": "stream",
     "text": [
      "False\n"
     ]
    }
   ],
   "source": [
    "6. How do you tell the difference between the equal to and assignment operators?Describe a\n",
    "condition and when you would use one.\n",
    "\n",
    "== equal to is compare two values and gives the boolean result(true or false)\n",
    "= assign operator is store the values for a variable.\n",
    "\n",
    "eg: \n",
    "c = 10\n",
    "print(c)\n",
    "\n",
    "n = 2 == 2\n",
    "print(n)"
   ]
  },
  {
   "cell_type": "code",
   "execution_count": 8,
   "metadata": {},
   "outputs": [
    {
     "name": "stdout",
     "output_type": "stream",
     "text": [
      "ham\n",
      "spam\n",
      "spam\n"
     ]
    }
   ],
   "source": [
    "#7. Identify the three blocks in this code:\n",
    "spam = 0\n",
    "if spam == 10:      #Block 1\n",
    "    print('eggs')\n",
    "if spam > 5:        #Block 2\n",
    "    print('bacon')\n",
    "else:               #Block 3\n",
    "    print('ham')\n",
    "    print('spam')\n",
    "    print('spam')"
   ]
  },
  {
   "cell_type": "code",
   "execution_count": 19,
   "metadata": {},
   "outputs": [
    {
     "name": "stdout",
     "output_type": "stream",
     "text": [
      "Enter the spam: 1\n",
      "Hello\n"
     ]
    }
   ],
   "source": [
    "#8. Write code that prints Hello if 1 is stored in spam, prints Howdy if 2 is stored in spam, and prints\n",
    "#Greetings! if anything else is stored in spam.\n",
    "\n",
    "spam = int(input(\"Enter the spam: \"))\n",
    "if spam == 1:\n",
    "    print(\"Hello\")\n",
    "elif spam == 2:\n",
    "    print(\"Howdy\")\n",
    "else:\n",
    "    print(\"Greetings!\")\n",
    "       "
   ]
  },
  {
   "cell_type": "code",
   "execution_count": null,
   "metadata": {},
   "outputs": [],
   "source": [
    "9.If your programme is stuck in an endless loop, what keys you’ll press?\n",
    "Ans: If program is stuck in endless loop we will press ctrl+c"
   ]
  },
  {
   "cell_type": "code",
   "execution_count": 21,
   "metadata": {},
   "outputs": [
    {
     "name": "stdout",
     "output_type": "stream",
     "text": [
      "0\n",
      "1\n",
      "2\n",
      "3\n",
      "4\n",
      "out from the loop\n",
      "0\n",
      "1\n",
      "2\n",
      "4\n",
      "End of the 2nd loop\n"
     ]
    }
   ],
   "source": [
    "#10. How can you tell the difference between break and continue?\n",
    "\n",
    "for i in range(5):\n",
    "    if i==5:\n",
    "        break\n",
    "    print(i)\n",
    "print(\"out from the loop\")\n",
    "\n",
    "for i in range(5):\n",
    "    if i==3:\n",
    "        continue\n",
    "    print(i)\n",
    "print(\"End of the 2nd loop\")\n",
    "\n",
    "#Ans: break : once the specific or menitoned condition is met or completed, it terminates the loops.\n",
    "#Continue: it is used to skip the mentioned or for the perticular iteration only. EX: 3 is not printed in the above example."
   ]
  },
  {
   "cell_type": "code",
   "execution_count": 47,
   "metadata": {},
   "outputs": [
    {
     "name": "stdout",
     "output_type": "stream",
     "text": [
      "for loop range(10)\n",
      "1\n",
      "2\n",
      "3\n",
      "4\n",
      "5\n",
      "6\n",
      "7\n",
      "8\n",
      "9\n",
      "10\n",
      "for loop range(0,10)\n",
      "1\n",
      "2\n",
      "3\n",
      "4\n",
      "5\n",
      "6\n",
      "7\n",
      "8\n",
      "9\n",
      "10\n",
      "for loop range(0,10,1)\n",
      "1\n",
      "2\n",
      "3\n",
      "4\n",
      "5\n",
      "6\n",
      "7\n",
      "8\n",
      "9\n",
      "10\n"
     ]
    }
   ],
   "source": [
    "#11. In a for loop, what is the difference between range(10), range(0, 10), and range(0, 10, 1)?\n",
    "#Ans:\n",
    "print(\"for loop range(10)\")\n",
    "for i in range(10):\n",
    "    i=i+1\n",
    "    print(i)\n",
    "\n",
    "print(\"for loop range(0,10)\")\n",
    "for j in range(0,10):\n",
    "    j=j+1\n",
    "    print(j)\n",
    "\n",
    "print(\"for loop range(0,10,1)\")\n",
    "for k in range(0,10,1):\n",
    "    k=k+1\n",
    "    print(k)"
   ]
  },
  {
   "cell_type": "code",
   "execution_count": 6,
   "metadata": {},
   "outputs": [
    {
     "name": "stdout",
     "output_type": "stream",
     "text": [
      "For Loop\n",
      "1\n",
      "2\n",
      "3\n",
      "4\n",
      "5\n",
      "6\n",
      "7\n",
      "8\n",
      "9\n",
      "10\n",
      "While Loop\n",
      "1\n",
      "2\n",
      "3\n",
      "4\n",
      "5\n",
      "6\n",
      "7\n",
      "8\n",
      "9\n",
      "10\n"
     ]
    }
   ],
   "source": [
    "#12. Write a short program that prints the numbers 1 to 10 using a for loop. Then write an equivalent\n",
    "#program that prints the numbers 1 to 10 using a while loop.\n",
    "\n",
    "print(\"For Loop\")\n",
    "for i in range(0,10):\n",
    "    i=i+1\n",
    "    print(i)\n",
    "\n",
    "print(\"While Loop\")\n",
    "n=1   \n",
    "while n <= 10:\n",
    "    print(n)\n",
    "    n+=1"
   ]
  },
  {
   "cell_type": "code",
   "execution_count": null,
   "metadata": {},
   "outputs": [],
   "source": [
    "#13. If you had a function named bacon() inside a module named spam, how would you call it after\n",
    "#importing spam?\n",
    "\n",
    "#Ans: This function can call with spam.bacon()"
   ]
  }
 ],
 "metadata": {
  "kernelspec": {
   "display_name": "Python 3",
   "language": "python",
   "name": "python3"
  },
  "language_info": {
   "codemirror_mode": {
    "name": "ipython",
    "version": 3
   },
   "file_extension": ".py",
   "mimetype": "text/x-python",
   "name": "python",
   "nbconvert_exporter": "python",
   "pygments_lexer": "ipython3",
   "version": "3.7.0"
  }
 },
 "nbformat": 4,
 "nbformat_minor": 2
}
